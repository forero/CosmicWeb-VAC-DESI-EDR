{
 "cells": [
  {
   "cell_type": "code",
   "execution_count": 49,
   "id": "4375a0b0-aca5-4595-b1aa-5898d642bce9",
   "metadata": {},
   "outputs": [],
   "source": [
    "import numpy as np\n",
    "import matplotlib.pyplot as plt\n",
    "import os \n",
    "\n",
    "from astropy.table import Table\n",
    "\n",
    "\n",
    "import desispec.io\n",
    "from desitarget.sv3 import sv3_targetmask "
   ]
  },
  {
   "cell_type": "code",
   "execution_count": 50,
   "id": "ade12e3d-3609-4da4-b905-5c661295364c",
   "metadata": {},
   "outputs": [
    {
     "name": "stdout",
     "output_type": "stream",
     "text": [
      "/global/cfs/cdirs/desi/spectro/redux/fuji\n"
     ]
    }
   ],
   "source": [
    "specprod = 'fuji'    # Internal name for the EDR\n",
    "specprod_dir = desispec.io.specprod_root(specprod)\n",
    "print(specprod_dir)"
   ]
  },
  {
   "cell_type": "code",
   "execution_count": 76,
   "id": "3626053a-d57a-4a40-8b84-dd7c462f8b6e",
   "metadata": {},
   "outputs": [],
   "source": [
    "bright_zcat_file = os.path.join(specprod_dir, 'zcatalog', 'ztile-sv3-bright-cumulative.fits')"
   ]
  },
  {
   "cell_type": "code",
   "execution_count": 77,
   "id": "4bbb00a3-7534-41b1-a834-a8f4ff0c0678",
   "metadata": {},
   "outputs": [],
   "source": [
    "bright_zcat = Table.read(bright_zcat_file)"
   ]
  },
  {
   "cell_type": "code",
   "execution_count": 79,
   "id": "094e9fc3-e04b-463e-9b6e-a10cac93d3f2",
   "metadata": {},
   "outputs": [
    {
     "name": "stdout",
     "output_type": "stream",
     "text": [
      "259613\n",
      "259613\n"
     ]
    }
   ],
   "source": [
    "#only bgs bright galaxies\n",
    "bgs_bright_ii = (bright_zcat['SV3_BGS_TARGET'] & sv3_targetmask.bgs_mask[\"BGS_BRIGHT\"])!=0\n",
    "print(np.count_nonzero(bgs_bright_ii))\n",
    "bgs_bright_zcat = bright_zcat[bgs_bright_ii]\n",
    "print(len(bgs_bright_zcat))"
   ]
  },
  {
   "cell_type": "code",
   "execution_count": 86,
   "id": "2aadd6d3-ea9e-487e-843b-145a61575110",
   "metadata": {},
   "outputs": [
    {
     "data": {
      "image/png": "[encoded data removed]",
      "text/plain": [
       "<Figure size 432x288 with 1 Axes>"
      ]
     },
     "metadata": {
      "needs_background": "light"
     },
     "output_type": "display_data"
    }
   ],
   "source": [
    "_ = plt.hist(bgs_bright_zcat['Z'], bins=np.linspace(0.0, 0.8, 20))"
   ]
  },
  {
   "cell_type": "code",
   "execution_count": 90,
   "id": "48b3fe2a-f247-46ec-b423-0c1deca920c2",
   "metadata": {},
   "outputs": [
    {
     "data": {
      "text/plain": [
       "214"
      ]
     },
     "execution_count": 90,
     "metadata": {},
     "output_type": "execute_result"
    }
   ],
   "source": [
    "len(set(bgs_bright_zcat['TILEID']))"
   ]
  },
  {
   "cell_type": "code",
   "execution_count": 91,
   "id": "0ab83f31-f085-44ac-8055-c424a169059f",
   "metadata": {},
   "outputs": [],
   "source": [
    "# The link between rosette and TILEID is here https://desi.lbl.gov/trac/wiki/SurveyOps/OnePercent#Rosettefootprints"
   ]
  },
  {
   "cell_type": "code",
   "execution_count": 102,
   "id": "92877e78-f3ed-4d62-80e5-90e8c3acf893",
   "metadata": {},
   "outputs": [],
   "source": [
    "# here is the file from the LSS catalog\n",
    "lss_data = Table.read('/global/cfs/cdirs/desi/survey/catalogs/SV3/LSS/fuji/LSScats/3/BGS_BRIGHT_full.dat.fits')"
   ]
  },
  {
   "cell_type": "code",
   "execution_count": 103,
   "id": "c82f12e9-9a9e-462f-a5b2-b8b001037798",
   "metadata": {},
   "outputs": [
    {
     "data": {
      "text/plain": [
       "<matplotlib.collections.PathCollection at 0x155491306130>"
      ]
     },
     "execution_count": 103,
     "metadata": {},
     "output_type": "execute_result"
    },
    {
     "data": {
      "image/png": "[encoded data removed]",
      "text/plain": [
       "<Figure size 432x288 with 1 Axes>"
      ]
     },
     "metadata": {
      "needs_background": "light"
     },
     "output_type": "display_data"
    }
   ],
   "source": [
    "plt.scatter(lss_data['RA'], lss_data['DEC'])"
   ]
  },
  {
   "cell_type": "code",
   "execution_count": 105,
   "id": "064b9b31-4c07-4476-917d-f48102ea6604",
   "metadata": {},
   "outputs": [],
   "source": [
    "list_rosette = list(set(lss_data['rosette_number']))"
   ]
  },
  {
   "cell_type": "code",
   "execution_count": 107,
   "id": "8f76f515-d5a6-4202-8051-f209ce4b0ec2",
   "metadata": {},
   "outputs": [
    {
     "data": {
      "text/plain": [
       "[0.0,\n",
       " 1.0,\n",
       " 2.0,\n",
       " 3.0,\n",
       " 4.0,\n",
       " 5.0,\n",
       " 6.0,\n",
       " 7.0,\n",
       " 8.0,\n",
       " 9.0,\n",
       " 10.0,\n",
       " 11.0,\n",
       " 12.0,\n",
       " 13.0,\n",
       " 14.0,\n",
       " 15.0,\n",
       " 16.0,\n",
       " 17.0,\n",
       " 18.0,\n",
       " 19.0]"
      ]
     },
     "execution_count": 107,
     "metadata": {},
     "output_type": "execute_result"
    }
   ],
   "source": [
    "list_rosette"
   ]
  },
  {
   "cell_type": "code",
   "execution_count": null,
   "id": "6c6b88cf-69f4-4cb1-916a-b326c0181b16",
   "metadata": {},
   "outputs": [],
   "source": []
  }
 ],
 "metadata": {
  "kernelspec": {
   "display_name": "DESI 22.2",
   "language": "python",
   "name": "desi-22.2"
  },
  "language_info": {
   "codemirror_mode": {
    "name": "ipython",
    "version": 3
   },
   "file_extension": ".py",
   "mimetype": "text/x-python",
   "name": "python",
   "nbconvert_exporter": "python",
   "pygments_lexer": "ipython3",
   "version": "3.9.7"
  }
 },
 "nbformat": 4,
 "nbformat_minor": 5
}
