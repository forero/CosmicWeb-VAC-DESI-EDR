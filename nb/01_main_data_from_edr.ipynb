{
 "cells": [
  {
   "cell_type": "code",
   "execution_count": null,
   "id": "4375a0b0-aca5-4595-b1aa-5898d642bce9",
   "metadata": {},
   "outputs": [],
   "source": [
    "import numpy as np\n",
    "import matplotlib.pyplot as plt\n",
    "import os \n",
    "\n",
    "from astropy.table import Table\n",
    "\n",
    "import desispec.io\n",
    "from desitarget.sv3 import sv3_targetmask \n",
    "import astropy\n",
    "\n",
    "from astropy.cosmology import Planck18 as cosmo\n",
    "\n",
    "import glob"
   ]
  },
  {
   "cell_type": "code",
   "execution_count": null,
   "id": "ade12e3d-3609-4da4-b905-5c661295364c",
   "metadata": {},
   "outputs": [],
   "source": [
    "specprod = 'fuji'    # Internal name for the EDR\n",
    "specprod_dir = desispec.io.specprod_root(specprod)\n",
    "print(specprod_dir)"
   ]
  },
  {
   "cell_type": "code",
   "execution_count": null,
   "id": "3626053a-d57a-4a40-8b84-dd7c462f8b6e",
   "metadata": {},
   "outputs": [],
   "source": [
    "bright_zcat_file = os.path.join(specprod_dir, 'zcatalog', 'ztile-sv3-bright-cumulative.fits')"
   ]
  },
  {
   "cell_type": "code",
   "execution_count": null,
   "id": "4bbb00a3-7534-41b1-a834-a8f4ff0c0678",
   "metadata": {},
   "outputs": [],
   "source": [
    "bright_zcat = Table.read(bright_zcat_file)"
   ]
  },
  {
   "cell_type": "code",
   "execution_count": null,
   "id": "094e9fc3-e04b-463e-9b6e-a10cac93d3f2",
   "metadata": {},
   "outputs": [],
   "source": [
    "#only bgs bright galaxies\n",
    "bgs_bright_ii = (bright_zcat['SV3_BGS_TARGET'] & sv3_targetmask.bgs_mask[\"BGS_BRIGHT\"])!=0\n",
    "print(np.count_nonzero(bgs_bright_ii))\n",
    "bgs_bright_zcat = bright_zcat[bgs_bright_ii]\n",
    "print(len(bgs_bright_zcat))"
   ]
  },
  {
   "cell_type": "code",
   "execution_count": null,
   "id": "2aadd6d3-ea9e-487e-843b-145a61575110",
   "metadata": {},
   "outputs": [],
   "source": [
    "_ = plt.hist(bgs_bright_zcat['Z'], bins=np.linspace(0.0, 0.8, 20))"
   ]
  },
  {
   "cell_type": "code",
   "execution_count": null,
   "id": "48b3fe2a-f247-46ec-b423-0c1deca920c2",
   "metadata": {},
   "outputs": [],
   "source": [
    "len(set(bgs_bright_zcat['TILEID']))"
   ]
  },
  {
   "cell_type": "code",
   "execution_count": null,
   "id": "0ab83f31-f085-44ac-8055-c424a169059f",
   "metadata": {},
   "outputs": [],
   "source": [
    "# The link between rosette and TILEID is here https://desi.lbl.gov/trac/wiki/SurveyOps/OnePercent#Rosettefootprints"
   ]
  },
  {
   "cell_type": "code",
   "execution_count": null,
   "id": "92877e78-f3ed-4d62-80e5-90e8c3acf893",
   "metadata": {},
   "outputs": [],
   "source": [
    "# here is the file from the LSS catalog\n",
    "#lss_data = Table.read('/global/cfs/cdirs/desi/survey/catalogs/SV3/LSS/fuji/LSScats/EDAbeta/BGS_BRIGHT_full.dat.fits')\n",
    "lss_data = Table.read('/global/cfs/cdirs/desi/survey/catalogs/SV3/LSS/fuji/LSScats/EDAbeta/BGS_BRIGHT_N_clustering.dat.fits')"
   ]
  },
  {
   "cell_type": "code",
   "execution_count": null,
   "id": "7363857d-ab16-4b93-a983-1d272115921a",
   "metadata": {},
   "outputs": [],
   "source": [
    "lss_data"
   ]
  },
  {
   "cell_type": "code",
   "execution_count": null,
   "id": "c82f12e9-9a9e-462f-a5b2-b8b001037798",
   "metadata": {},
   "outputs": [],
   "source": [
    "plt.scatter(lss_data['RA'], lss_data['DEC'])"
   ]
  },
  {
   "cell_type": "code",
   "execution_count": null,
   "id": "064b9b31-4c07-4476-917d-f48102ea6604",
   "metadata": {},
   "outputs": [],
   "source": [
    "list_rosette = np.array(list(set(lss_data['rosette_number'])), dtype='int')"
   ]
  },
  {
   "cell_type": "code",
   "execution_count": null,
   "id": "8f76f515-d5a6-4202-8051-f209ce4b0ec2",
   "metadata": {},
   "outputs": [],
   "source": [
    "list_rosette"
   ]
  },
  {
   "cell_type": "code",
   "execution_count": null,
   "id": "6c6b88cf-69f4-4cb1-916a-b326c0181b16",
   "metadata": {},
   "outputs": [],
   "source": [
    "# Full description for the rosette footprints.\n",
    "#https://desi.lbl.gov/trac/wiki/SurveyOps/OnePercent#Rosettefootprints\n",
    "for rosette_id in list_rosette:\n",
    "    ii = (lss_data['rosette_number']==rosette_id) & (lss_data['Z']<0.3) & (lss_data['ABSMAG_R']<-20.1826)\n",
    "    data_rosette = lss_data[ii] \n",
    "    print(len(data_rosette), rosette_id)\n",
    "    plt.figure(figsize=(20,2))\n",
    "    #plt.subplot(1,2,1)\n",
    "    #plt.scatter(data_rosette['RA'], data_rosette['DEC'], alpha=0.1)\n",
    "    #plt.subplot(1,2,2, adjustable='box')\n",
    "\n",
    "    plt.subplot(1,2,1)\n",
    "    plt.scatter(data_rosette['Z'], \n",
    "                data_rosette['Z']*np.deg2rad(data_rosette['RA']-np.mean(data_rosette['RA'])), s=0.1)\n",
    "    plt.subplot(1,2,2)\n",
    "    plt.scatter(data_rosette['RA'], data_rosette['DEC'], s=0.1)\n",
    "    plt.axis('equal')\n",
    "    plt.show()"
   ]
  },
  {
   "cell_type": "code",
   "execution_count": null,
   "id": "e967680e-31c8-4c96-bad5-7b7d3911d4e1",
   "metadata": {},
   "outputs": [],
   "source": [
    "plt.scatter(lss_data['Z'], lss_data['ABSMAG_R'])"
   ]
  },
  {
   "cell_type": "code",
   "execution_count": null,
   "id": "fcc52a2c-23c1-49df-8f7d-1503dd2e6229",
   "metadata": {},
   "outputs": [],
   "source": [
    "z_max_list = [0.1, 0.2, 0.25, 0.3, 0.35, 0.4, 0.5]\n",
    "\n",
    "for z_max in z_max_list:\n",
    "    ii = lss_data['Z']>z_max\n",
    "    absmag_r_max = np.max(lss_data['ABSMAG_R'][ii])\n",
    "    n_in_vol = np.count_nonzero((lss_data['Z']<=z_max) & (lss_data['ABSMAG_R']<absmag_r_max))\n",
    "    print(z_max, absmag_r_max, n_in_vol)\n"
   ]
  },
  {
   "cell_type": "code",
   "execution_count": null,
   "id": "63f03d08-0b94-444a-8c62-857252764a33",
   "metadata": {},
   "outputs": [],
   "source": [
    "# read some random\n",
    "random  = Table.read('/global/cfs/cdirs/desi/survey/catalogs/SV3/LSS/fuji/LSScats/EDAbeta/BGS_BRIGHT_N_0_clustering.ran.fits')"
   ]
  },
  {
   "cell_type": "code",
   "execution_count": null,
   "id": "cd25d7da-6990-4698-8c3d-1e9b82798fa2",
   "metadata": {},
   "outputs": [],
   "source": [
    "random"
   ]
  },
  {
   "cell_type": "code",
   "execution_count": null,
   "id": "4c6f14b6-ec21-4707-8d2d-f9fe5ce49d03",
   "metadata": {},
   "outputs": [],
   "source": [
    "list_rosette_random = np.array(list(set(random['rosette_number'])), dtype='int')\n",
    "print(list_rosette_random)"
   ]
  },
  {
   "cell_type": "code",
   "execution_count": null,
   "id": "633f661f-432d-414a-96c1-5d25dc91498f",
   "metadata": {},
   "outputs": [],
   "source": [
    "# Full description for the rosette footprints.\n",
    "#https://desi.lbl.gov/trac/wiki/SurveyOps/OnePercent#Rosettefootprints\n",
    "for rosette_id in list_rosette_random:\n",
    "    ii = (random['rosette_number']==rosette_id) & (random['Z']<0.3) & (random['ABSMAG_R']<-20.1826)\n",
    "    data_rosette = random[ii] \n",
    "    print(rosette_id, len(data_rosette), len(random))\n",
    "    plt.figure(figsize=(20,2))\n",
    "    plt.subplot(1,2,1)\n",
    "    plt.scatter(data_rosette['Z'], \n",
    "                data_rosette['Z']*np.deg2rad(data_rosette['RA']-np.mean(data_rosette['RA'])), s=0.1)\n",
    "    plt.subplot(1,2,2)\n",
    "    plt.scatter(data_rosette['RA'], data_rosette['DEC'], s=0.1)\n",
    "    plt.axis('equal')\n",
    "    plt.show()"
   ]
  },
  {
   "cell_type": "code",
   "execution_count": null,
   "id": "da208fcc-c7c4-409f-a176-f97d116883dc",
   "metadata": {},
   "outputs": [],
   "source": [
    "hemi = 'N'\n",
    "rand_id = 9\n",
    "lss_data = Table.read('/global/cfs/cdirs/desi/survey/catalogs/SV3/LSS/fuji/LSScats/EDAbeta/BGS_BRIGHT_{}_clustering.dat.fits'.format(hemi))\n",
    "random  = Table.read('/global/cfs/cdirs/desi/survey/catalogs/SV3/LSS/fuji/LSScats/EDAbeta/BGS_BRIGHT_{}_{}_clustering.ran.fits'.format(hemi, rand_id))\n",
    "max_z = 0.3\n",
    "max_magabs_r = -20.1826\n",
    "list_rosette = np.array(list(set(lss_data['rosette_number'])), dtype='int')\n",
    "for rosette_id in list_rosette:\n",
    "    \n",
    "    ii = (lss_data['rosette_number']==rosette_id) & (lss_data['Z']<0.3) & (lss_data['ABSMAG_R']<-20.1826)\n",
    "    data_rosette = lss_data[ii] \n",
    "    n_data = len(data_rosette)\n",
    "    \n",
    "    ii = (random['rosette_number']==rosette_id) & (random['Z']<0.3) & (random['ABSMAG_R']<-20.1826)\n",
    "    random_rosette = random[ii]\n",
    "    n_random = len(random_rosette)\n",
    "    random_ids = np.arange(n_random)\n",
    "    select_random_ids = np.random.choice(random_ids, n_data, replace=False)\n",
    "    random_rosette = random_rosette[select_random_ids]\n",
    "    \n",
    "    print(n_data, n_random)\n",
    "\n",
    "    \n",
    "    plt.figure(figsize=(20,2))\n",
    "    plt.subplot(1,2,1)\n",
    "    plt.scatter(data_rosette['Z'], \n",
    "                data_rosette['Z']*np.deg2rad(data_rosette['RA']-np.mean(data_rosette['RA'])), s=0.1)\n",
    "    plt.scatter(random_rosette['Z'], \n",
    "                random_rosette['Z']*np.deg2rad(random_rosette['RA']-np.mean(random_rosette['RA'])), s=0.1, alpha=0.8)    \n",
    "    plt.subplot(1,2,2)\n",
    "    plt.scatter(data_rosette['RA'], data_rosette['DEC'], s=0.1)\n",
    "    plt.scatter(random_rosette['RA'], random_rosette['DEC'], s=0.1, alpha=0.5)\n",
    "    plt.axis('equal')\n",
    "    \n",
    "    file_data = '../data/radec_rosette_{}_data.csv'.format(rosette_id)\n",
    "    file_random = '../data/radec_rosette_{}_random_{}.csv'.format(rosette_id, rand_id)\n",
    "    print(file_data, file_random)\n",
    "    \n",
    "    astropy.io.ascii.write(random_rosette[['RA', 'DEC', 'Z', 'TARGETID']], file_random, format='csv', overwrite=True)\n",
    "    astropy.io.ascii.write(data_rosette[['RA', 'DEC', 'Z', 'TARGETID']], file_data, format='csv', overwrite=True)\n"
   ]
  },
  {
   "cell_type": "code",
   "execution_count": null,
   "id": "45ead05c-9ea0-4a2d-8391-f00ee39520dd",
   "metadata": {},
   "outputs": [],
   "source": [
    "def write_data_random(hemi='N', rand_id=0):\n",
    "    lss_data = Table.read('/global/cfs/cdirs/desi/survey/catalogs/SV3/LSS/fuji/LSScats/EDAbeta/BGS_BRIGHT_{}_clustering.dat.fits'.format(hemi))\n",
    "    random  = Table.read('/global/cfs/cdirs/desi/survey/catalogs/SV3/LSS/fuji/LSScats/EDAbeta/BGS_BRIGHT_{}_{}_clustering.ran.fits'.format(hemi, rand_id))\n",
    "    max_z = 0.3\n",
    "    max_magabs_r = -20.1826\n",
    "    list_rosette = np.array(list(set(lss_data['rosette_number'])), dtype='int')\n",
    "    for rosette_id in list_rosette:\n",
    "    \n",
    "        ii = (lss_data['rosette_number']==rosette_id) & (lss_data['Z']<0.3) & (lss_data['ABSMAG_R']<-20.1826)\n",
    "        data_rosette = lss_data[ii] \n",
    "        n_data = len(data_rosette)\n",
    "    \n",
    "        ii = (random['rosette_number']==rosette_id) & (random['Z']<0.3) & (random['ABSMAG_R']<-20.1826)\n",
    "        random_rosette = random[ii]\n",
    "        n_random = len(random_rosette)\n",
    "        random_ids = np.arange(n_random)\n",
    "        select_random_ids = np.random.choice(random_ids, n_data, replace=False)\n",
    "        random_rosette = random_rosette[select_random_ids]\n",
    "    \n",
    "        #print(n_data, n_random)\n",
    "\n",
    "    \n",
    "        file_data = '../data/radec_rosette_{}_data.csv'.format(rosette_id)\n",
    "        file_random = '../data/radec_rosette_{}_random_{}.csv'.format(rosette_id, rand_id)\n",
    "        #print(file_data, file_random)\n",
    "    \n",
    "        astropy.io.ascii.write(random_rosette[['RA', 'DEC', 'Z', 'TARGETID']], file_random, format='csv', overwrite=True)\n",
    "        astropy.io.ascii.write(data_rosette[['RA', 'DEC', 'Z', 'TARGETID']], file_data, format='csv', overwrite=True)\n"
   ]
  },
  {
   "cell_type": "code",
   "execution_count": null,
   "id": "51b5c174-a6f1-4fa0-99e8-0544e7e149bf",
   "metadata": {},
   "outputs": [],
   "source": [
    "def convert_radecz_to_xyz(file_in):\n",
    "    file_out = file_in.replace('radec_', 'xyz_')\n",
    "    data_in = Table.read(file_in)\n",
    "    data_in['R'] = np.array(cosmo.comoving_distance(data_in['Z']))\n",
    "    \n",
    "    x, y, z = astropy.coordinates.spherical_to_cartesian(data_in['R'], np.array(np.deg2rad(data_in['DEC'])), np.array(np.deg2rad(data_in['RA'])))\n",
    "    data_in['X'] = x\n",
    "    data_in['Y'] = y\n",
    "    data_in['Z'] = z\n",
    "    #print(file_out)\n",
    "    #print(data_in)\n",
    "    #plt.scatter(x,y, s=0.1)\n",
    "    astropy.io.ascii.write(data_in[['X', 'Y', 'Z', 'TARGETID']], file_out, format='csv', overwrite=True)"
   ]
  },
  {
   "cell_type": "code",
   "execution_count": null,
   "id": "1fe20e28-df80-4912-afa0-bcdb9d0b14a9",
   "metadata": {},
   "outputs": [],
   "source": [
    "for i in range(15):\n",
    "    write_data_random(hemi='N', rand_id=i)\n",
    "    write_data_random(hemi='S', rand_id=i)"
   ]
  },
  {
   "cell_type": "code",
   "execution_count": null,
   "id": "1f90c3a2-a923-43c6-9e72-20e9c4b02a33",
   "metadata": {},
   "outputs": [],
   "source": [
    "files = glob.glob(\"../data/radec_*\")\n",
    "for file in files:\n",
    "    convert_radecz_to_xyz(file)"
   ]
  },
  {
   "cell_type": "code",
   "execution_count": null,
   "id": "e1ee673d-a89f-420e-b605-141d8ff985b9",
   "metadata": {},
   "outputs": [],
   "source": []
  }
 ],
 "metadata": {
  "kernelspec": {
   "display_name": "DESI 22.2",
   "language": "python",
   "name": "desi-22.2"
  },
  "language_info": {
   "codemirror_mode": {
    "name": "ipython",
    "version": 3
   },
   "file_extension": ".py",
   "mimetype": "text/x-python",
   "name": "python",
   "nbconvert_exporter": "python",
   "pygments_lexer": "ipython3",
   "version": "3.9.7"
  }
 },
 "nbformat": 4,
 "nbformat_minor": 5
}
